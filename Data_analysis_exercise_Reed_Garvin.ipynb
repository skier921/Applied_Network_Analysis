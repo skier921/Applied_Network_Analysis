{
  "nbformat": 4,
  "nbformat_minor": 0,
  "metadata": {
    "colab": {
      "provenance": []
    },
    "kernelspec": {
      "name": "python3",
      "display_name": "Python 3"
    },
    "language_info": {
      "name": "python"
    }
  },
  "cells": [
    {
      "cell_type": "markdown",
      "source": [
        "##**Setting up Graph Tool in Colab**\n"
      ],
      "metadata": {
        "id": "k2czxMss37rm"
      }
    },
    {
      "cell_type": "code",
      "source": [
        "!echo \"deb http://downloads.skewed.de/apt jammy main\" >> /etc/apt/sources.list\n",
        "!apt-key adv -q --keyserver keyserver.ubuntu.com --recv-key 612DEFB798507F25\n",
        "!apt-get -q  update\n",
        "!apt-get -q install python3-graph-tool python3-matplotlib python3-cairo"
      ],
      "metadata": {
        "colab": {
          "base_uri": "https://localhost:8080/"
        },
        "id": "mJ-MF18Z3veH",
        "outputId": "b81b76fd-a603-4ddb-a866-3f2d3d827763"
      },
      "execution_count": 1,
      "outputs": [
        {
          "output_type": "stream",
          "name": "stdout",
          "text": [
            "Warning: apt-key is deprecated. Manage keyring files in trusted.gpg.d instead (see apt-key(8)).\n",
            "Executing: /tmp/apt-key-gpghome.Fg5yTfkJvq/gpg.1.sh -q --keyserver keyserver.ubuntu.com --recv-key 612DEFB798507F25\n",
            "Hit:1 https://developer.download.nvidia.com/compute/cuda/repos/ubuntu2204/x86_64  InRelease\n",
            "Get:2 http://security.ubuntu.com/ubuntu jammy-security InRelease [110 kB]\n",
            "Get:3 https://cloud.r-project.org/bin/linux/ubuntu jammy-cran40/ InRelease [3,626 B]\n",
            "Hit:4 http://archive.ubuntu.com/ubuntu jammy InRelease\n",
            "Get:5 http://archive.ubuntu.com/ubuntu jammy-updates InRelease [119 kB]\n",
            "Get:6 https://ppa.launchpadcontent.net/c2d4u.team/c2d4u4.0+/ubuntu jammy InRelease [18.1 kB]\n",
            "Get:7 http://downloads.skewed.de/apt jammy InRelease [7,536 B]\n",
            "Get:8 http://archive.ubuntu.com/ubuntu jammy-backports InRelease [109 kB]\n",
            "Hit:9 https://ppa.launchpadcontent.net/deadsnakes/ppa/ubuntu jammy InRelease\n",
            "Get:10 http://downloads.skewed.de/apt jammy/main amd64 Packages [2,989 B]\n",
            "Get:11 http://security.ubuntu.com/ubuntu jammy-security/universe amd64 Packages [1,005 kB]\n",
            "Hit:12 https://ppa.launchpadcontent.net/graphics-drivers/ppa/ubuntu jammy InRelease\n",
            "Get:13 http://archive.ubuntu.com/ubuntu jammy-updates/main amd64 Packages [1,349 kB]\n",
            "Get:14 http://security.ubuntu.com/ubuntu jammy-security/main amd64 Packages [1,082 kB]\n",
            "Hit:15 https://ppa.launchpadcontent.net/ubuntugis/ppa/ubuntu jammy InRelease\n",
            "Get:16 http://archive.ubuntu.com/ubuntu jammy-updates/universe amd64 Packages [1,270 kB]\n",
            "Get:17 https://ppa.launchpadcontent.net/c2d4u.team/c2d4u4.0+/ubuntu jammy/main Sources [2,229 kB]\n",
            "Get:18 https://ppa.launchpadcontent.net/c2d4u.team/c2d4u4.0+/ubuntu jammy/main amd64 Packages [1,144 kB]\n",
            "Fetched 8,449 kB in 4s (2,049 kB/s)\n",
            "Reading package lists...\n",
            "W: http://downloads.skewed.de/apt/dists/jammy/InRelease: Key is stored in legacy trusted.gpg keyring (/etc/apt/trusted.gpg), see the DEPRECATION section in apt-key(8) for details.\n",
            "Reading package lists...\n",
            "Building dependency tree...\n",
            "Reading state information...\n",
            "The following additional packages will be installed:\n",
            "  fonts-dejavu-core fonts-lyx gir1.2-atk-1.0 gir1.2-freedesktop gir1.2-gdkpixbuf-2.0 gir1.2-gtk-3.0\n",
            "  gir1.2-harfbuzz-0.0 gir1.2-pango-1.0 libcairomm-1.0-1v5 libimagequant0 liblbfgsb0\n",
            "  libpangoxft-1.0-0 libraqm0 libsigc++-2.0-0v5 libxsimd-dev python-matplotlib-data python3-appdirs\n",
            "  python3-attr python3-beniget python3-brotli python3-bs4 python3-chardet python3-cycler\n",
            "  python3-dateutil python3-decorator python3-fonttools python3-fs python3-gast python3-html5lib\n",
            "  python3-kiwisolver python3-lxml python3-lz4 python3-mpmath python3-numpy python3-olefile\n",
            "  python3-packaging python3-pil python3-pil.imagetk python3-ply python3-pythran python3-scipy\n",
            "  python3-soupsieve python3-sympy python3-tz python3-ufolib2 python3-unicodedata2\n",
            "  python3-webencodings unicode-data\n",
            "Suggested packages:\n",
            "  libxsimd-doc python-attr-doc python-cycler-doc python3-genshi python-lxml-doc dvipng\n",
            "  fonts-staypuft ghostscript inkscape ipython3 librsvg2-common python-matplotlib-doc\n",
            "  python3-cairocffi python3-gi-cairo python3-gobject python3-pyqt5 python3-sip python3-tornado\n",
            "  texlive-extra-utils texlive-latex-extra python-mpmath-doc python3-gmpy2 python-numpy-doc\n",
            "  python3-pytest python-pil-doc python-ply-doc python-scipy-doc texlive-fonts-extra\n",
            "  python-sympy-doc\n",
            "Recommended packages:\n",
            "  libgv-python python-matplotlib python-cairo python-gi-cairo python-gi\n",
            "The following NEW packages will be installed:\n",
            "  fonts-dejavu-core fonts-lyx gir1.2-atk-1.0 gir1.2-freedesktop gir1.2-gdkpixbuf-2.0 gir1.2-gtk-3.0\n",
            "  gir1.2-harfbuzz-0.0 gir1.2-pango-1.0 libcairomm-1.0-1v5 libimagequant0 liblbfgsb0\n",
            "  libpangoxft-1.0-0 libraqm0 libsigc++-2.0-0v5 libxsimd-dev python-matplotlib-data python3-appdirs\n",
            "  python3-attr python3-beniget python3-brotli python3-bs4 python3-cairo python3-chardet\n",
            "  python3-cycler python3-dateutil python3-decorator python3-fonttools python3-fs python3-gast\n",
            "  python3-graph-tool python3-html5lib python3-kiwisolver python3-lxml python3-lz4\n",
            "  python3-matplotlib python3-mpmath python3-numpy python3-olefile python3-packaging python3-pil\n",
            "  python3-pil.imagetk python3-ply python3-pythran python3-scipy python3-soupsieve python3-sympy\n",
            "  python3-tz python3-ufolib2 python3-unicodedata2 python3-webencodings unicode-data\n",
            "0 upgraded, 51 newly installed, 0 to remove and 28 not upgraded.\n",
            "Need to get 97.6 MB of archives.\n",
            "After this operation, 574 MB of additional disk space will be used.\n",
            "Get:1 http://archive.ubuntu.com/ubuntu jammy/main amd64 fonts-dejavu-core all 2.37-2build1 [1,041 kB]\n",
            "Get:2 http://downloads.skewed.de/apt jammy/main amd64 python3-graph-tool amd64 2.58 [51.3 MB]\n",
            "Get:3 http://archive.ubuntu.com/ubuntu jammy/universe amd64 fonts-lyx all 2.3.6-1 [159 kB]\n",
            "Get:4 http://archive.ubuntu.com/ubuntu jammy/main amd64 gir1.2-atk-1.0 amd64 2.36.0-3build1 [21.0 kB]\n",
            "Get:5 http://archive.ubuntu.com/ubuntu jammy/main amd64 gir1.2-freedesktop amd64 1.72.0-1 [22.3 kB]\n",
            "Get:6 http://archive.ubuntu.com/ubuntu jammy-updates/main amd64 gir1.2-gdkpixbuf-2.0 amd64 2.42.8+dfsg-1ubuntu0.2 [9,482 B]\n",
            "Get:7 http://archive.ubuntu.com/ubuntu jammy-updates/main amd64 gir1.2-harfbuzz-0.0 amd64 2.7.4-1ubuntu3.1 [31.6 kB]\n",
            "Get:8 http://archive.ubuntu.com/ubuntu jammy-updates/main amd64 libpangoxft-1.0-0 amd64 1.50.6+ds-2ubuntu1 [31.0 kB]\n",
            "Get:9 http://archive.ubuntu.com/ubuntu jammy-updates/main amd64 gir1.2-pango-1.0 amd64 1.50.6+ds-2ubuntu1 [44.0 kB]\n",
            "Get:10 http://archive.ubuntu.com/ubuntu jammy-updates/main amd64 gir1.2-gtk-3.0 amd64 3.24.33-1ubuntu2 [240 kB]\n",
            "Get:11 http://archive.ubuntu.com/ubuntu jammy/main amd64 libsigc++-2.0-0v5 amd64 2.10.4-2ubuntu3 [12.1 kB]\n",
            "Get:12 http://archive.ubuntu.com/ubuntu jammy/main amd64 libcairomm-1.0-1v5 amd64 1.12.2-4build3 [45.1 kB]\n",
            "Get:13 http://archive.ubuntu.com/ubuntu jammy/main amd64 libimagequant0 amd64 2.17.0-1 [34.6 kB]\n",
            "Get:14 http://archive.ubuntu.com/ubuntu jammy/universe amd64 liblbfgsb0 amd64 3.0+dfsg.3-10 [29.9 kB]\n",
            "Get:15 http://archive.ubuntu.com/ubuntu jammy/main amd64 libraqm0 amd64 0.7.0-4ubuntu1 [11.7 kB]\n",
            "Get:16 http://archive.ubuntu.com/ubuntu jammy/universe amd64 libxsimd-dev amd64 7.6.0-2 [108 kB]\n",
            "Get:17 http://archive.ubuntu.com/ubuntu jammy/universe amd64 python-matplotlib-data all 3.5.1-2build1 [2,942 kB]\n",
            "Get:18 http://archive.ubuntu.com/ubuntu jammy/main amd64 python3-appdirs all 1.4.4-2 [11.4 kB]\n",
            "Get:19 http://archive.ubuntu.com/ubuntu jammy/main amd64 python3-attr all 21.2.0-1 [44.0 kB]\n",
            "Get:20 http://archive.ubuntu.com/ubuntu jammy/universe amd64 python3-gast all 0.5.2-2 [9,394 B]\n",
            "Get:21 http://archive.ubuntu.com/ubuntu jammy/universe amd64 python3-beniget all 0.4.1-2 [9,904 B]\n",
            "Get:22 http://archive.ubuntu.com/ubuntu jammy/universe amd64 python3-brotli amd64 1.0.9-2build6 [319 kB]\n",
            "Get:23 http://archive.ubuntu.com/ubuntu jammy/main amd64 python3-soupsieve all 2.3.1-1 [33.0 kB]\n",
            "Get:24 http://archive.ubuntu.com/ubuntu jammy/main amd64 python3-bs4 all 4.10.0-2 [79.1 kB]\n",
            "Get:25 http://archive.ubuntu.com/ubuntu jammy/main amd64 python3-cairo amd64 1.20.1-3build1 [73.7 kB]\n",
            "Get:26 http://archive.ubuntu.com/ubuntu jammy/main amd64 python3-chardet all 4.0.0-1 [98.0 kB]\n",
            "Get:27 http://archive.ubuntu.com/ubuntu jammy/universe amd64 python3-cycler all 0.11.0-1 [8,156 B]\n",
            "Get:28 http://archive.ubuntu.com/ubuntu jammy/main amd64 python3-dateutil all 2.8.1-6 [78.4 kB]\n",
            "Get:29 http://archive.ubuntu.com/ubuntu jammy/main amd64 python3-decorator all 4.4.2-0ubuntu1 [10.3 kB]\n",
            "Get:30 http://archive.ubuntu.com/ubuntu jammy-updates/main amd64 python3-numpy amd64 1:1.21.5-1ubuntu22.04.1 [3,467 kB]\n",
            "Get:31 http://archive.ubuntu.com/ubuntu jammy/main amd64 python3-ply all 3.11-5 [47.5 kB]\n",
            "Get:32 http://archive.ubuntu.com/ubuntu jammy/universe amd64 python3-pythran amd64 0.10.0+ds2-1 [423 kB]\n",
            "Get:33 http://archive.ubuntu.com/ubuntu jammy/universe amd64 python3-scipy amd64 1.8.0-1exp2ubuntu1 [14.7 MB]\n",
            "Get:34 http://archive.ubuntu.com/ubuntu jammy/universe amd64 python3-ufolib2 all 0.13.1+dfsg1-1 [32.2 kB]\n",
            "Get:35 http://archive.ubuntu.com/ubuntu jammy/universe amd64 python3-mpmath all 1.2.1-2 [419 kB]\n",
            "Get:36 http://archive.ubuntu.com/ubuntu jammy/universe amd64 python3-sympy all 1.9-1 [4,312 kB]\n",
            "Get:37 http://archive.ubuntu.com/ubuntu jammy-updates/main amd64 python3-tz all 2022.1-1ubuntu0.22.04.1 [30.7 kB]\n",
            "Get:38 http://archive.ubuntu.com/ubuntu jammy/universe amd64 python3-fs all 2.4.12-1 [84.9 kB]\n",
            "Get:39 http://archive.ubuntu.com/ubuntu jammy/main amd64 python3-lxml amd64 4.8.0-1build1 [1,150 kB]\n",
            "Get:40 http://archive.ubuntu.com/ubuntu jammy/universe amd64 python3-lz4 amd64 3.1.3+dfsg-1build3 [33.3 kB]\n",
            "Get:41 http://archive.ubuntu.com/ubuntu jammy/universe amd64 python3-unicodedata2 amd64 14.0.0+ds-8 [376 kB]\n",
            "Get:42 http://archive.ubuntu.com/ubuntu jammy/universe amd64 unicode-data all 14.0.0-1.1 [8,206 kB]\n",
            "Get:43 http://archive.ubuntu.com/ubuntu jammy/universe amd64 python3-fonttools amd64 4.29.1-2build1 [810 kB]\n",
            "Get:44 http://archive.ubuntu.com/ubuntu jammy/main amd64 python3-webencodings all 0.5.1-4 [11.8 kB]\n",
            "Get:45 http://archive.ubuntu.com/ubuntu jammy/main amd64 python3-html5lib all 1.1-3 [87.0 kB]\n",
            "Get:46 http://archive.ubuntu.com/ubuntu jammy/universe amd64 python3-kiwisolver amd64 1.3.2-1build1 [48.0 kB]\n",
            "Get:47 http://archive.ubuntu.com/ubuntu jammy-updates/main amd64 python3-pil amd64 9.0.1-1ubuntu0.1 [419 kB]\n",
            "Get:48 http://archive.ubuntu.com/ubuntu jammy-updates/universe amd64 python3-pil.imagetk amd64 9.0.1-1ubuntu0.1 [9,608 B]\n",
            "Get:49 http://archive.ubuntu.com/ubuntu jammy/main amd64 python3-packaging all 21.3-1 [30.7 kB]\n",
            "Get:50 http://archive.ubuntu.com/ubuntu jammy/universe amd64 python3-matplotlib amd64 3.5.1-2build1 [5,937 kB]\n",
            "Get:51 http://archive.ubuntu.com/ubuntu jammy/main amd64 python3-olefile all 0.46-3 [33.8 kB]\n",
            "Fetched 97.6 MB in 6s (15.5 MB/s)\n",
            "Extracting templates from packages: 100%\n",
            "Selecting previously unselected package fonts-dejavu-core.\n",
            "(Reading database ... 120875 files and directories currently installed.)\n",
            "Preparing to unpack .../00-fonts-dejavu-core_2.37-2build1_all.deb ...\n",
            "Unpacking fonts-dejavu-core (2.37-2build1) ...\n",
            "Selecting previously unselected package fonts-lyx.\n",
            "Preparing to unpack .../01-fonts-lyx_2.3.6-1_all.deb ...\n",
            "Unpacking fonts-lyx (2.3.6-1) ...\n",
            "Selecting previously unselected package gir1.2-atk-1.0:amd64.\n",
            "Preparing to unpack .../02-gir1.2-atk-1.0_2.36.0-3build1_amd64.deb ...\n",
            "Unpacking gir1.2-atk-1.0:amd64 (2.36.0-3build1) ...\n",
            "Selecting previously unselected package gir1.2-freedesktop:amd64.\n",
            "Preparing to unpack .../03-gir1.2-freedesktop_1.72.0-1_amd64.deb ...\n",
            "Unpacking gir1.2-freedesktop:amd64 (1.72.0-1) ...\n",
            "Selecting previously unselected package gir1.2-gdkpixbuf-2.0:amd64.\n",
            "Preparing to unpack .../04-gir1.2-gdkpixbuf-2.0_2.42.8+dfsg-1ubuntu0.2_amd64.deb ...\n",
            "Unpacking gir1.2-gdkpixbuf-2.0:amd64 (2.42.8+dfsg-1ubuntu0.2) ...\n",
            "Selecting previously unselected package gir1.2-harfbuzz-0.0:amd64.\n",
            "Preparing to unpack .../05-gir1.2-harfbuzz-0.0_2.7.4-1ubuntu3.1_amd64.deb ...\n",
            "Unpacking gir1.2-harfbuzz-0.0:amd64 (2.7.4-1ubuntu3.1) ...\n",
            "Selecting previously unselected package libpangoxft-1.0-0:amd64.\n",
            "Preparing to unpack .../06-libpangoxft-1.0-0_1.50.6+ds-2ubuntu1_amd64.deb ...\n",
            "Unpacking libpangoxft-1.0-0:amd64 (1.50.6+ds-2ubuntu1) ...\n",
            "Selecting previously unselected package gir1.2-pango-1.0:amd64.\n",
            "Preparing to unpack .../07-gir1.2-pango-1.0_1.50.6+ds-2ubuntu1_amd64.deb ...\n",
            "Unpacking gir1.2-pango-1.0:amd64 (1.50.6+ds-2ubuntu1) ...\n",
            "Selecting previously unselected package gir1.2-gtk-3.0:amd64.\n",
            "Preparing to unpack .../08-gir1.2-gtk-3.0_3.24.33-1ubuntu2_amd64.deb ...\n",
            "Unpacking gir1.2-gtk-3.0:amd64 (3.24.33-1ubuntu2) ...\n",
            "Selecting previously unselected package libsigc++-2.0-0v5:amd64.\n",
            "Preparing to unpack .../09-libsigc++-2.0-0v5_2.10.4-2ubuntu3_amd64.deb ...\n",
            "Unpacking libsigc++-2.0-0v5:amd64 (2.10.4-2ubuntu3) ...\n",
            "Selecting previously unselected package libcairomm-1.0-1v5:amd64.\n",
            "Preparing to unpack .../10-libcairomm-1.0-1v5_1.12.2-4build3_amd64.deb ...\n",
            "Unpacking libcairomm-1.0-1v5:amd64 (1.12.2-4build3) ...\n",
            "Selecting previously unselected package libimagequant0:amd64.\n",
            "Preparing to unpack .../11-libimagequant0_2.17.0-1_amd64.deb ...\n",
            "Unpacking libimagequant0:amd64 (2.17.0-1) ...\n",
            "Selecting previously unselected package liblbfgsb0:amd64.\n",
            "Preparing to unpack .../12-liblbfgsb0_3.0+dfsg.3-10_amd64.deb ...\n",
            "Unpacking liblbfgsb0:amd64 (3.0+dfsg.3-10) ...\n",
            "Selecting previously unselected package libraqm0:amd64.\n",
            "Preparing to unpack .../13-libraqm0_0.7.0-4ubuntu1_amd64.deb ...\n",
            "Unpacking libraqm0:amd64 (0.7.0-4ubuntu1) ...\n",
            "Selecting previously unselected package libxsimd-dev:amd64.\n",
            "Preparing to unpack .../14-libxsimd-dev_7.6.0-2_amd64.deb ...\n",
            "Unpacking libxsimd-dev:amd64 (7.6.0-2) ...\n",
            "Selecting previously unselected package python-matplotlib-data.\n",
            "Preparing to unpack .../15-python-matplotlib-data_3.5.1-2build1_all.deb ...\n",
            "Unpacking python-matplotlib-data (3.5.1-2build1) ...\n",
            "Selecting previously unselected package python3-appdirs.\n",
            "Preparing to unpack .../16-python3-appdirs_1.4.4-2_all.deb ...\n",
            "Unpacking python3-appdirs (1.4.4-2) ...\n",
            "Selecting previously unselected package python3-attr.\n",
            "Preparing to unpack .../17-python3-attr_21.2.0-1_all.deb ...\n",
            "Unpacking python3-attr (21.2.0-1) ...\n",
            "Selecting previously unselected package python3-gast.\n",
            "Preparing to unpack .../18-python3-gast_0.5.2-2_all.deb ...\n",
            "Unpacking python3-gast (0.5.2-2) ...\n",
            "Selecting previously unselected package python3-beniget.\n",
            "Preparing to unpack .../19-python3-beniget_0.4.1-2_all.deb ...\n",
            "Unpacking python3-beniget (0.4.1-2) ...\n",
            "Selecting previously unselected package python3-brotli.\n",
            "Preparing to unpack .../20-python3-brotli_1.0.9-2build6_amd64.deb ...\n",
            "Unpacking python3-brotli (1.0.9-2build6) ...\n",
            "Selecting previously unselected package python3-soupsieve.\n",
            "Preparing to unpack .../21-python3-soupsieve_2.3.1-1_all.deb ...\n",
            "Unpacking python3-soupsieve (2.3.1-1) ...\n",
            "Selecting previously unselected package python3-bs4.\n",
            "Preparing to unpack .../22-python3-bs4_4.10.0-2_all.deb ...\n",
            "Unpacking python3-bs4 (4.10.0-2) ...\n",
            "Selecting previously unselected package python3-cairo:amd64.\n",
            "Preparing to unpack .../23-python3-cairo_1.20.1-3build1_amd64.deb ...\n",
            "Unpacking python3-cairo:amd64 (1.20.1-3build1) ...\n",
            "Selecting previously unselected package python3-chardet.\n",
            "Preparing to unpack .../24-python3-chardet_4.0.0-1_all.deb ...\n",
            "Unpacking python3-chardet (4.0.0-1) ...\n",
            "Selecting previously unselected package python3-cycler.\n",
            "Preparing to unpack .../25-python3-cycler_0.11.0-1_all.deb ...\n",
            "Unpacking python3-cycler (0.11.0-1) ...\n",
            "Selecting previously unselected package python3-dateutil.\n",
            "Preparing to unpack .../26-python3-dateutil_2.8.1-6_all.deb ...\n",
            "Unpacking python3-dateutil (2.8.1-6) ...\n",
            "Selecting previously unselected package python3-decorator.\n",
            "Preparing to unpack .../27-python3-decorator_4.4.2-0ubuntu1_all.deb ...\n",
            "Unpacking python3-decorator (4.4.2-0ubuntu1) ...\n",
            "Selecting previously unselected package python3-numpy.\n",
            "Preparing to unpack .../28-python3-numpy_1%3a1.21.5-1ubuntu22.04.1_amd64.deb ...\n",
            "Unpacking python3-numpy (1:1.21.5-1ubuntu22.04.1) ...\n",
            "Selecting previously unselected package python3-ply.\n",
            "Preparing to unpack .../29-python3-ply_3.11-5_all.deb ...\n",
            "Unpacking python3-ply (3.11-5) ...\n",
            "Selecting previously unselected package python3-pythran.\n",
            "Preparing to unpack .../30-python3-pythran_0.10.0+ds2-1_amd64.deb ...\n",
            "Unpacking python3-pythran (0.10.0+ds2-1) ...\n",
            "Selecting previously unselected package python3-scipy.\n",
            "Preparing to unpack .../31-python3-scipy_1.8.0-1exp2ubuntu1_amd64.deb ...\n",
            "Unpacking python3-scipy (1.8.0-1exp2ubuntu1) ...\n",
            "Selecting previously unselected package python3-ufolib2.\n",
            "Preparing to unpack .../32-python3-ufolib2_0.13.1+dfsg1-1_all.deb ...\n",
            "Unpacking python3-ufolib2 (0.13.1+dfsg1-1) ...\n",
            "Selecting previously unselected package python3-mpmath.\n",
            "Preparing to unpack .../33-python3-mpmath_1.2.1-2_all.deb ...\n",
            "Unpacking python3-mpmath (1.2.1-2) ...\n",
            "Selecting previously unselected package python3-sympy.\n",
            "Preparing to unpack .../34-python3-sympy_1.9-1_all.deb ...\n",
            "Unpacking python3-sympy (1.9-1) ...\n",
            "Selecting previously unselected package python3-tz.\n",
            "Preparing to unpack .../35-python3-tz_2022.1-1ubuntu0.22.04.1_all.deb ...\n",
            "Unpacking python3-tz (2022.1-1ubuntu0.22.04.1) ...\n",
            "Selecting previously unselected package python3-fs.\n",
            "Preparing to unpack .../36-python3-fs_2.4.12-1_all.deb ...\n",
            "Unpacking python3-fs (2.4.12-1) ...\n",
            "Selecting previously unselected package python3-lxml:amd64.\n",
            "Preparing to unpack .../37-python3-lxml_4.8.0-1build1_amd64.deb ...\n",
            "Unpacking python3-lxml:amd64 (4.8.0-1build1) ...\n",
            "Selecting previously unselected package python3-lz4.\n",
            "Preparing to unpack .../38-python3-lz4_3.1.3+dfsg-1build3_amd64.deb ...\n",
            "Unpacking python3-lz4 (3.1.3+dfsg-1build3) ...\n",
            "Selecting previously unselected package python3-unicodedata2.\n",
            "Preparing to unpack .../39-python3-unicodedata2_14.0.0+ds-8_amd64.deb ...\n",
            "Unpacking python3-unicodedata2 (14.0.0+ds-8) ...\n",
            "Selecting previously unselected package unicode-data.\n",
            "Preparing to unpack .../40-unicode-data_14.0.0-1.1_all.deb ...\n",
            "Unpacking unicode-data (14.0.0-1.1) ...\n",
            "Selecting previously unselected package python3-fonttools.\n",
            "Preparing to unpack .../41-python3-fonttools_4.29.1-2build1_amd64.deb ...\n",
            "Unpacking python3-fonttools (4.29.1-2build1) ...\n",
            "Selecting previously unselected package python3-webencodings.\n",
            "Preparing to unpack .../42-python3-webencodings_0.5.1-4_all.deb ...\n",
            "Unpacking python3-webencodings (0.5.1-4) ...\n",
            "Selecting previously unselected package python3-html5lib.\n",
            "Preparing to unpack .../43-python3-html5lib_1.1-3_all.deb ...\n",
            "Unpacking python3-html5lib (1.1-3) ...\n",
            "Selecting previously unselected package python3-kiwisolver.\n",
            "Preparing to unpack .../44-python3-kiwisolver_1.3.2-1build1_amd64.deb ...\n",
            "Unpacking python3-kiwisolver (1.3.2-1build1) ...\n",
            "Selecting previously unselected package python3-pil:amd64.\n",
            "Preparing to unpack .../45-python3-pil_9.0.1-1ubuntu0.1_amd64.deb ...\n",
            "Unpacking python3-pil:amd64 (9.0.1-1ubuntu0.1) ...\n",
            "Selecting previously unselected package python3-pil.imagetk:amd64.\n",
            "Preparing to unpack .../46-python3-pil.imagetk_9.0.1-1ubuntu0.1_amd64.deb ...\n",
            "Unpacking python3-pil.imagetk:amd64 (9.0.1-1ubuntu0.1) ...\n",
            "Selecting previously unselected package python3-packaging.\n",
            "Preparing to unpack .../47-python3-packaging_21.3-1_all.deb ...\n",
            "Unpacking python3-packaging (21.3-1) ...\n",
            "Selecting previously unselected package python3-matplotlib.\n",
            "Preparing to unpack .../48-python3-matplotlib_3.5.1-2build1_amd64.deb ...\n",
            "Unpacking python3-matplotlib (3.5.1-2build1) ...\n",
            "Selecting previously unselected package python3-olefile.\n",
            "Preparing to unpack .../49-python3-olefile_0.46-3_all.deb ...\n",
            "Unpacking python3-olefile (0.46-3) ...\n",
            "Selecting previously unselected package python3-graph-tool.\n",
            "Preparing to unpack .../50-python3-graph-tool_2.58_amd64.deb ...\n",
            "Unpacking python3-graph-tool (2.58) ...\n",
            "Setting up python3-attr (21.2.0-1) ...\n",
            "Setting up gir1.2-freedesktop:amd64 (1.72.0-1) ...\n",
            "Setting up python3-cairo:amd64 (1.20.1-3build1) ...\n",
            "Setting up libpangoxft-1.0-0:amd64 (1.50.6+ds-2ubuntu1) ...\n",
            "Setting up gir1.2-gdkpixbuf-2.0:amd64 (2.42.8+dfsg-1ubuntu0.2) ...\n",
            "Setting up python3-lz4 (3.1.3+dfsg-1build3) ...\n",
            "Setting up gir1.2-atk-1.0:amd64 (2.36.0-3build1) ...\n",
            "Setting up python3-unicodedata2 (14.0.0+ds-8) ...\n",
            "Setting up fonts-lyx (2.3.6-1) ...\n",
            "Setting up python3-olefile (0.46-3) ...\n",
            "Setting up python3-ply (3.11-5) ...\n",
            "Setting up python3-gast (0.5.2-2) ...\n",
            "Setting up gir1.2-harfbuzz-0.0:amd64 (2.7.4-1ubuntu3.1) ...\n",
            "Setting up python3-webencodings (0.5.1-4) ...\n",
            "Setting up python3-tz (2022.1-1ubuntu0.22.04.1) ...\n",
            "Setting up unicode-data (14.0.0-1.1) ...\n",
            "Setting up python3-beniget (0.4.1-2) ...\n",
            "Setting up libxsimd-dev:amd64 (7.6.0-2) ...\n",
            "Setting up python3-decorator (4.4.2-0ubuntu1) ...\n",
            "Setting up gir1.2-pango-1.0:amd64 (1.50.6+ds-2ubuntu1) ...\n",
            "Setting up python3-packaging (21.3-1) ...\n",
            "Setting up python3-chardet (4.0.0-1) ...\n",
            "Setting up libsigc++-2.0-0v5:amd64 (2.10.4-2ubuntu3) ...\n",
            "Setting up python3-brotli (1.0.9-2build6) ...\n",
            "Setting up libraqm0:amd64 (0.7.0-4ubuntu1) ...\n",
            "Setting up python3-cycler (0.11.0-1) ...\n",
            "Setting up libimagequant0:amd64 (2.17.0-1) ...\n",
            "Setting up python3-kiwisolver (1.3.2-1build1) ...\n",
            "Setting up fonts-dejavu-core (2.37-2build1) ...\n",
            "Setting up python3-html5lib (1.1-3) ...\n",
            "Setting up python3-numpy (1:1.21.5-1ubuntu22.04.1) ...\n",
            "Setting up python3-pythran (0.10.0+ds2-1) ...\n",
            "Setting up python3-lxml:amd64 (4.8.0-1build1) ...\n",
            "Setting up python3-dateutil (2.8.1-6) ...\n",
            "Setting up python3-mpmath (1.2.1-2) ...\n",
            "Setting up python-matplotlib-data (3.5.1-2build1) ...\n",
            "Setting up python3-appdirs (1.4.4-2) ...\n",
            "Setting up python3-soupsieve (2.3.1-1) ...\n",
            "Setting up liblbfgsb0:amd64 (3.0+dfsg.3-10) ...\n",
            "Setting up python3-sympy (1.9-1) ...\n",
            "Setting up python3-scipy (1.8.0-1exp2ubuntu1) ...\n",
            "Setting up gir1.2-gtk-3.0:amd64 (3.24.33-1ubuntu2) ...\n",
            "Setting up python3-bs4 (4.10.0-2) ...\n",
            "Setting up python3-fs (2.4.12-1) ...\n",
            "Setting up libcairomm-1.0-1v5:amd64 (1.12.2-4build3) ...\n",
            "Setting up python3-graph-tool (2.58) ...\n",
            "Setting up python3-pil:amd64 (9.0.1-1ubuntu0.1) ...\n",
            "Setting up python3-pil.imagetk:amd64 (9.0.1-1ubuntu0.1) ...\n",
            "Setting up python3-ufolib2 (0.13.1+dfsg1-1) ...\n",
            "Setting up python3-fonttools (4.29.1-2build1) ...\n",
            "Setting up python3-matplotlib (3.5.1-2build1) ...\n",
            "Processing triggers for libc-bin (2.35-0ubuntu3.1) ...\n",
            "/sbin/ldconfig.real: /usr/local/lib/libtbbbind_2_5.so.3 is not a symbolic link\n",
            "\n",
            "/sbin/ldconfig.real: /usr/local/lib/libtbbbind_2_0.so.3 is not a symbolic link\n",
            "\n",
            "/sbin/ldconfig.real: /usr/local/lib/libtbbbind.so.3 is not a symbolic link\n",
            "\n",
            "/sbin/ldconfig.real: /usr/local/lib/libtbb.so.12 is not a symbolic link\n",
            "\n",
            "/sbin/ldconfig.real: /usr/local/lib/libtbbmalloc_proxy.so.2 is not a symbolic link\n",
            "\n",
            "/sbin/ldconfig.real: /usr/local/lib/libtbbmalloc.so.2 is not a symbolic link\n",
            "\n",
            "Processing triggers for man-db (2.10.2-1) ...\n",
            "Processing triggers for fontconfig (2.13.1-4.2ubuntu5) ...\n"
          ]
        }
      ]
    },
    {
      "cell_type": "code",
      "source": [
        "# Colab uses a Python install that deviates from the system's! Bad collab! We need some workarounds.\n",
        "!apt purge -q python3-cairo\n",
        "!apt install -q libcairo2-dev pkg-config python3-dev\n",
        "!pip install -q --force-reinstall pycairo\n",
        "!pip install -q zstandard"
      ],
      "metadata": {
        "colab": {
          "base_uri": "https://localhost:8080/"
        },
        "id": "pNSVU57q31Un",
        "outputId": "3269ade7-1d92-4561-b729-24a236825bfe"
      },
      "execution_count": 2,
      "outputs": [
        {
          "output_type": "stream",
          "name": "stdout",
          "text": [
            "Reading package lists...\n",
            "Building dependency tree...\n",
            "Reading state information...\n",
            "The following packages will be REMOVED:\n",
            "  python3-cairo*\n",
            "0 upgraded, 0 newly installed, 1 to remove and 28 not upgraded.\n",
            "After this operation, 310 kB disk space will be freed.\n",
            "(Reading database ... 129247 files and directories currently installed.)\n",
            "Removing python3-cairo:amd64 (1.20.1-3build1) ...\n",
            "Reading package lists...\n",
            "Building dependency tree...\n",
            "Reading state information...\n",
            "pkg-config is already the newest version (0.29.2-1ubuntu3).\n",
            "python3-dev is already the newest version (3.10.6-1~22.04).\n",
            "python3-dev set to manually installed.\n",
            "The following additional packages will be installed:\n",
            "  libblkid-dev libcairo-script-interpreter2 libffi-dev libglib2.0-dev libglib2.0-dev-bin libice-dev\n",
            "  liblzo2-2 libmount-dev libpixman-1-dev libselinux1-dev libsepol-dev libsm-dev libxcb-render0-dev\n",
            "  libxcb-shm0-dev\n",
            "Suggested packages:\n",
            "  libcairo2-doc libgirepository1.0-dev libglib2.0-doc libgdk-pixbuf2.0-bin | libgdk-pixbuf2.0-dev\n",
            "  libxml2-utils libice-doc libsm-doc\n",
            "The following NEW packages will be installed:\n",
            "  libblkid-dev libcairo-script-interpreter2 libcairo2-dev libffi-dev libglib2.0-dev\n",
            "  libglib2.0-dev-bin libice-dev liblzo2-2 libmount-dev libpixman-1-dev libselinux1-dev libsepol-dev\n",
            "  libsm-dev libxcb-render0-dev libxcb-shm0-dev\n",
            "0 upgraded, 15 newly installed, 0 to remove and 28 not upgraded.\n",
            "Need to get 3,839 kB of archives.\n",
            "After this operation, 19.8 MB of additional disk space will be used.\n",
            "Get:1 http://archive.ubuntu.com/ubuntu jammy/main amd64 liblzo2-2 amd64 2.10-2build3 [53.7 kB]\n",
            "Get:2 http://archive.ubuntu.com/ubuntu jammy/main amd64 libcairo-script-interpreter2 amd64 1.16.0-5ubuntu2 [62.0 kB]\n",
            "Get:3 http://archive.ubuntu.com/ubuntu jammy/main amd64 libice-dev amd64 2:1.0.10-1build2 [51.4 kB]\n",
            "Get:4 http://archive.ubuntu.com/ubuntu jammy/main amd64 libsm-dev amd64 2:1.2.3-1build2 [18.1 kB]\n",
            "Get:5 http://archive.ubuntu.com/ubuntu jammy-updates/main amd64 libpixman-1-dev amd64 0.40.0-1ubuntu0.22.04.1 [280 kB]\n",
            "Get:6 http://archive.ubuntu.com/ubuntu jammy/main amd64 libxcb-render0-dev amd64 1.14-3ubuntu3 [19.6 kB]\n",
            "Get:7 http://archive.ubuntu.com/ubuntu jammy/main amd64 libxcb-shm0-dev amd64 1.14-3ubuntu3 [6,848 B]\n",
            "Get:8 http://archive.ubuntu.com/ubuntu jammy/main amd64 libffi-dev amd64 3.4.2-4 [63.7 kB]\n",
            "Get:9 http://archive.ubuntu.com/ubuntu jammy-updates/main amd64 libglib2.0-dev-bin amd64 2.72.4-0ubuntu2.2 [117 kB]\n",
            "Get:10 http://archive.ubuntu.com/ubuntu jammy/main amd64 libblkid-dev amd64 2.37.2-4ubuntu3 [185 kB]\n",
            "Get:11 http://archive.ubuntu.com/ubuntu jammy/main amd64 libsepol-dev amd64 3.3-1build1 [378 kB]\n",
            "Get:12 http://archive.ubuntu.com/ubuntu jammy/main amd64 libselinux1-dev amd64 3.3-1build2 [158 kB]\n",
            "Get:13 http://archive.ubuntu.com/ubuntu jammy/main amd64 libmount-dev amd64 2.37.2-4ubuntu3 [14.5 kB]\n",
            "Get:14 http://archive.ubuntu.com/ubuntu jammy-updates/main amd64 libglib2.0-dev amd64 2.72.4-0ubuntu2.2 [1,739 kB]\n",
            "Get:15 http://archive.ubuntu.com/ubuntu jammy/main amd64 libcairo2-dev amd64 1.16.0-5ubuntu2 [692 kB]\n",
            "Fetched 3,839 kB in 0s (9,861 kB/s)\n",
            "Selecting previously unselected package liblzo2-2:amd64.\n",
            "(Reading database ... 129238 files and directories currently installed.)\n",
            "Preparing to unpack .../00-liblzo2-2_2.10-2build3_amd64.deb ...\n",
            "Unpacking liblzo2-2:amd64 (2.10-2build3) ...\n",
            "Selecting previously unselected package libcairo-script-interpreter2:amd64.\n",
            "Preparing to unpack .../01-libcairo-script-interpreter2_1.16.0-5ubuntu2_amd64.deb ...\n",
            "Unpacking libcairo-script-interpreter2:amd64 (1.16.0-5ubuntu2) ...\n",
            "Selecting previously unselected package libice-dev:amd64.\n",
            "Preparing to unpack .../02-libice-dev_2%3a1.0.10-1build2_amd64.deb ...\n",
            "Unpacking libice-dev:amd64 (2:1.0.10-1build2) ...\n",
            "Selecting previously unselected package libsm-dev:amd64.\n",
            "Preparing to unpack .../03-libsm-dev_2%3a1.2.3-1build2_amd64.deb ...\n",
            "Unpacking libsm-dev:amd64 (2:1.2.3-1build2) ...\n",
            "Selecting previously unselected package libpixman-1-dev:amd64.\n",
            "Preparing to unpack .../04-libpixman-1-dev_0.40.0-1ubuntu0.22.04.1_amd64.deb ...\n",
            "Unpacking libpixman-1-dev:amd64 (0.40.0-1ubuntu0.22.04.1) ...\n",
            "Selecting previously unselected package libxcb-render0-dev:amd64.\n",
            "Preparing to unpack .../05-libxcb-render0-dev_1.14-3ubuntu3_amd64.deb ...\n",
            "Unpacking libxcb-render0-dev:amd64 (1.14-3ubuntu3) ...\n",
            "Selecting previously unselected package libxcb-shm0-dev:amd64.\n",
            "Preparing to unpack .../06-libxcb-shm0-dev_1.14-3ubuntu3_amd64.deb ...\n",
            "Unpacking libxcb-shm0-dev:amd64 (1.14-3ubuntu3) ...\n",
            "Selecting previously unselected package libffi-dev:amd64.\n",
            "Preparing to unpack .../07-libffi-dev_3.4.2-4_amd64.deb ...\n",
            "Unpacking libffi-dev:amd64 (3.4.2-4) ...\n",
            "Selecting previously unselected package libglib2.0-dev-bin.\n",
            "Preparing to unpack .../08-libglib2.0-dev-bin_2.72.4-0ubuntu2.2_amd64.deb ...\n",
            "Unpacking libglib2.0-dev-bin (2.72.4-0ubuntu2.2) ...\n",
            "Selecting previously unselected package libblkid-dev:amd64.\n",
            "Preparing to unpack .../09-libblkid-dev_2.37.2-4ubuntu3_amd64.deb ...\n",
            "Unpacking libblkid-dev:amd64 (2.37.2-4ubuntu3) ...\n",
            "Selecting previously unselected package libsepol-dev:amd64.\n",
            "Preparing to unpack .../10-libsepol-dev_3.3-1build1_amd64.deb ...\n",
            "Unpacking libsepol-dev:amd64 (3.3-1build1) ...\n",
            "Selecting previously unselected package libselinux1-dev:amd64.\n",
            "Preparing to unpack .../11-libselinux1-dev_3.3-1build2_amd64.deb ...\n",
            "Unpacking libselinux1-dev:amd64 (3.3-1build2) ...\n",
            "Selecting previously unselected package libmount-dev:amd64.\n",
            "Preparing to unpack .../12-libmount-dev_2.37.2-4ubuntu3_amd64.deb ...\n",
            "Unpacking libmount-dev:amd64 (2.37.2-4ubuntu3) ...\n",
            "Selecting previously unselected package libglib2.0-dev:amd64.\n",
            "Preparing to unpack .../13-libglib2.0-dev_2.72.4-0ubuntu2.2_amd64.deb ...\n",
            "Unpacking libglib2.0-dev:amd64 (2.72.4-0ubuntu2.2) ...\n",
            "Selecting previously unselected package libcairo2-dev:amd64.\n",
            "Preparing to unpack .../14-libcairo2-dev_1.16.0-5ubuntu2_amd64.deb ...\n",
            "Unpacking libcairo2-dev:amd64 (1.16.0-5ubuntu2) ...\n",
            "Setting up libglib2.0-dev-bin (2.72.4-0ubuntu2.2) ...\n",
            "Setting up libblkid-dev:amd64 (2.37.2-4ubuntu3) ...\n",
            "Setting up libpixman-1-dev:amd64 (0.40.0-1ubuntu0.22.04.1) ...\n",
            "Setting up libice-dev:amd64 (2:1.0.10-1build2) ...\n",
            "Setting up libsm-dev:amd64 (2:1.2.3-1build2) ...\n",
            "Setting up liblzo2-2:amd64 (2.10-2build3) ...\n",
            "Setting up libffi-dev:amd64 (3.4.2-4) ...\n",
            "Setting up libxcb-shm0-dev:amd64 (1.14-3ubuntu3) ...\n",
            "Setting up libsepol-dev:amd64 (3.3-1build1) ...\n",
            "Setting up libxcb-render0-dev:amd64 (1.14-3ubuntu3) ...\n",
            "Setting up libcairo-script-interpreter2:amd64 (1.16.0-5ubuntu2) ...\n",
            "Setting up libselinux1-dev:amd64 (3.3-1build2) ...\n",
            "Setting up libmount-dev:amd64 (2.37.2-4ubuntu3) ...\n",
            "Setting up libglib2.0-dev:amd64 (2.72.4-0ubuntu2.2) ...\n",
            "Processing triggers for libglib2.0-0:amd64 (2.72.4-0ubuntu2.2) ...\n",
            "Processing triggers for libc-bin (2.35-0ubuntu3.1) ...\n",
            "/sbin/ldconfig.real: /usr/local/lib/libtbbbind_2_5.so.3 is not a symbolic link\n",
            "\n",
            "/sbin/ldconfig.real: /usr/local/lib/libtbbbind_2_0.so.3 is not a symbolic link\n",
            "\n",
            "/sbin/ldconfig.real: /usr/local/lib/libtbbbind.so.3 is not a symbolic link\n",
            "\n",
            "/sbin/ldconfig.real: /usr/local/lib/libtbb.so.12 is not a symbolic link\n",
            "\n",
            "/sbin/ldconfig.real: /usr/local/lib/libtbbmalloc_proxy.so.2 is not a symbolic link\n",
            "\n",
            "/sbin/ldconfig.real: /usr/local/lib/libtbbmalloc.so.2 is not a symbolic link\n",
            "\n",
            "Processing triggers for man-db (2.10.2-1) ...\n",
            "Setting up libcairo2-dev:amd64 (1.16.0-5ubuntu2) ...\n",
            "\u001b[2K     \u001b[90m━━━━━━━━━━━━━━━━━━━━━━━━━━━━━━━━━━━━━━━━\u001b[0m \u001b[32m347.8/347.8 kB\u001b[0m \u001b[31m4.5 MB/s\u001b[0m eta \u001b[36m0:00:00\u001b[0m\n",
            "\u001b[?25h  Installing build dependencies ... \u001b[?25l\u001b[?25hdone\n",
            "  Getting requirements to build wheel ... \u001b[?25l\u001b[?25hdone\n",
            "  Installing backend dependencies ... \u001b[?25l\u001b[?25hdone\n",
            "  Preparing metadata (pyproject.toml) ... \u001b[?25l\u001b[?25hdone\n",
            "  Building wheel for pycairo (pyproject.toml) ... \u001b[?25l\u001b[?25hdone\n",
            "\u001b[2K     \u001b[90m━━━━━━━━━━━━━━━━━━━━━━━━━━━━━━━━━━━━━━━━\u001b[0m \u001b[32m2.7/2.7 MB\u001b[0m \u001b[31m24.8 MB/s\u001b[0m eta \u001b[36m0:00:00\u001b[0m\n",
            "\u001b[?25h"
          ]
        }
      ]
    },
    {
      "cell_type": "markdown",
      "source": [
        "##**Importing the Network and Required Libraries**"
      ],
      "metadata": {
        "id": "PgD1NL4R4LSI"
      }
    },
    {
      "cell_type": "code",
      "execution_count": 3,
      "metadata": {
        "id": "YgjrrV8p02p-"
      },
      "outputs": [],
      "source": [
        "# U.S. Patent Citation Network Analysis using graph-tool\n",
        "import graph_tool.all as gt\n",
        "import matplotlib.pyplot as plt\n",
        "import numpy as np"
      ]
    },
    {
      "cell_type": "code",
      "source": [
        "g = gt.collection.ns[\"us_patents\"]"
      ],
      "metadata": {
        "id": "GW5bZA4v4VvJ"
      },
      "execution_count": 4,
      "outputs": []
    },
    {
      "cell_type": "markdown",
      "source": [
        "##**Spring Layout Visualization**\n"
      ],
      "metadata": {
        "id": "7xlTVJ2H4u3L"
      }
    },
    {
      "cell_type": "code",
      "source": [
        "# Generate the spring layout\n",
        "pos = gt.sfdp_layout(g, epsilon=1e-2, C=1.0)\n",
        "\n",
        "# Graph with more transparent edges and slightly smaller vertices\n",
        "edge_pen_width = gt.prop_to_size(gt.betweenness(g)[1], mi=0.1, ma=1.5)\n",
        "gt.graph_draw(g, pos, output_size=(1000, 1000), vertex_size=0.5, edge_pen_width=edge_pen_width, edge_color=[0.7,0.7,0.7,0.2], output=\"spring_layout.png\")"
      ],
      "metadata": {
        "id": "H6p8ueZc4zhQ"
      },
      "execution_count": null,
      "outputs": []
    },
    {
      "cell_type": "markdown",
      "source": [
        "##**Descriptive Measures**"
      ],
      "metadata": {
        "id": "nyXNhmVo4XBf"
      }
    },
    {
      "cell_type": "markdown",
      "source": [
        "Number of Patents (Nodes) and Citations (Edges)"
      ],
      "metadata": {
        "id": "wLG_Exgo4i84"
      }
    },
    {
      "cell_type": "code",
      "source": [
        "num_patents = g.num_vertices()\n",
        "num_citations = g.num_edges()\n",
        "print(f\"Number of Patents (Nodes): {num_patents}\")\n",
        "print(f\"Number of Citations (Edges): {num_citations}\")"
      ],
      "metadata": {
        "id": "tYLxH2Od4dPm"
      },
      "execution_count": 5,
      "outputs": []
    },
    {
      "cell_type": "markdown",
      "source": [
        "Visualization of Patents(Nodes) and Citations (Edges)"
      ],
      "metadata": {
        "id": "MzaIsVskC06C"
      }
    },
    {
      "cell_type": "code",
      "source": [
        "labels = ['Patents', 'Citations']\n",
        "values = [num_patents, num_citations]\n",
        "\n",
        "plt.figure(figsize=(10, 6))\n",
        "plt.bar(labels, values, color=['blue', 'green'])\n",
        "plt.title(\"Number of Patents vs. Citations\")\n",
        "plt.ylabel(\"Count\")\n",
        "for i, v in enumerate(values):\n",
        "    plt.text(i, v + 50, str(v), ha='center', va='bottom', fontweight='bold')  # Displaying the actual count above the bars\n",
        "plt.show()"
      ],
      "metadata": {
        "id": "lORGVekXCz39"
      },
      "execution_count": null,
      "outputs": []
    },
    {
      "cell_type": "markdown",
      "source": [
        "Degree Distribution"
      ],
      "metadata": {
        "id": "j5i8-nGA4lMx"
      }
    },
    {
      "cell_type": "code",
      "source": [
        "in_degrees = g.degree_property_map(\"in\").a\n",
        "out_degrees = g.degree_property_map(\"out\").a\n",
        "\n",
        "plt.figure(figsize=(10,5))\n",
        "plt.hist(in_degrees, bins=50, color='blue', alpha=0.7, label=\"In-degree\")\n",
        "plt.hist(out_degrees, bins=50, color='red', alpha=0.7, label=\"Out-degree\")\n",
        "plt.title(\"Degree Distribution\")\n",
        "plt.xlabel(\"Degree\")\n",
        "plt.ylabel(\"Number of Patents\")\n",
        "plt.legend()\n",
        "plt.show()"
      ],
      "metadata": {
        "colab": {
          "base_uri": "https://localhost:8080/",
          "height": 487
        },
        "id": "roxqD_j44l2M",
        "outputId": "14409394-7d62-4b24-f322-5a764819b39c"
      },
      "execution_count": 6,
      "outputs": [
        {
          "output_type": "display_data",
          "data": {
            "text/plain": [
              "<Figure size 1000x500 with 1 Axes>"
            ],
            "image/png": "[encoded data removed]"
          },
          "metadata": {}
        }
      ]
    },
    {
      "cell_type": "markdown",
      "source": [
        "Identifing Patents Hubs"
      ],
      "metadata": {
        "id": "Nk6SvlAH4nnD"
      }
    },
    {
      "cell_type": "code",
      "source": [
        "vertex_betweenness = gt.betweenness(g)[0]\n",
        "threshold = np.percentile(vertex_betweenness.a, 95)\n",
        "key_patents = [(g.vertex(v), centrality) for v, centrality in enumerate(vertex_betweenness.a) if centrality > threshold]"
      ],
      "metadata": {
        "id": "64BCE_AR4qnW"
      },
      "execution_count": null,
      "outputs": []
    },
    {
      "cell_type": "markdown",
      "source": [
        "##**Shortest Paths**"
      ],
      "metadata": {
        "id": "v9G0SfvQ42lN"
      }
    },
    {
      "cell_type": "markdown",
      "source": [
        "Highest Degree"
      ],
      "metadata": {
        "id": "uA6aGRQZ6BMs"
      }
    },
    {
      "cell_type": "code",
      "source": [
        "# Identify patent with highest in-degree (most citations received)\n",
        "most_cited_vertex = np.argmax(in_degrees)"
      ],
      "metadata": {
        "id": "qhf7TDA54535"
      },
      "execution_count": null,
      "outputs": []
    },
    {
      "cell_type": "markdown",
      "source": [
        "Highest Betweenness Centrality"
      ],
      "metadata": {
        "id": "Xze7KmjT6Cby"
      }
    },
    {
      "cell_type": "code",
      "source": [
        "# Identify patent with highest betweenness centrality\n",
        "most_central_vertex = np.argmax(vertex_betweenness.a)"
      ],
      "metadata": {
        "id": "s9hxC6V66Hz7"
      },
      "execution_count": null,
      "outputs": []
    },
    {
      "cell_type": "markdown",
      "source": [
        "Shortest Path"
      ],
      "metadata": {
        "id": "Sn2H5fHG6HaT"
      }
    },
    {
      "cell_type": "code",
      "source": [
        "shortest_path_vertices = gt.shortest_path(g, g.vertex(most_cited_vertex), g.vertex(most_central_vertex))[0]"
      ],
      "metadata": {
        "id": "yendszUd7iVy"
      },
      "execution_count": null,
      "outputs": []
    },
    {
      "cell_type": "markdown",
      "source": [
        "##**Percolation Threshold**"
      ],
      "metadata": {
        "id": "CLv6NaaW49yl"
      }
    },
    {
      "cell_type": "code",
      "source": [
        "# Percolation analysis\n",
        "comp, hist = gt.vertex_percolation(g)\n",
        "threshold = np.argmax(hist.a) / g.num_vertices()\n",
        "\n",
        "# Plotting\n",
        "plt.figure(figsize=(10,5))\n",
        "plt.plot(hist.a / g.num_vertices(), label=\"Component Size\", color=\"blue\")\n",
        "plt.axvline(x=threshold, color='red', linestyle='--', label=f\"Threshold: {threshold:.2f}\")\n",
        "plt.title(\"Vertex Percolation in U.S. Patent Citation Network\")\n",
        "plt.xlabel(\"Fraction of Vertices Removed\")\n",
        "plt.ylabel(\"Normalized Component Size\")\n",
        "plt.legend()\n",
        "plt.show()"
      ],
      "metadata": {
        "id": "InT11AD45Dpb"
      },
      "execution_count": null,
      "outputs": []
    },
    {
      "cell_type": "markdown",
      "source": [
        "##**K-core Decomposition**"
      ],
      "metadata": {
        "id": "i6znm-VI5D4u"
      }
    },
    {
      "cell_type": "code",
      "source": [
        "core_prop = gt.kcore_decomposition(g)\n",
        "max_core = core_prop.a.max()"
      ],
      "metadata": {
        "id": "hpD8irov5IE3"
      },
      "execution_count": null,
      "outputs": []
    },
    {
      "cell_type": "markdown",
      "source": [
        "Histogram of Core Numbers"
      ],
      "metadata": {
        "id": "Ro_vhEW38kRy"
      }
    },
    {
      "cell_type": "code",
      "source": [
        "# Histogram of core numbers\n",
        "plt.figure(figsize=(10,5))\n",
        "plt.hist(core_prop.a, bins=range(1, max_core + 2), align='left', rwidth=0.8, color='purple', alpha=0.7)\n",
        "plt.title('Distribution of k-Core Numbers in U.S. Patent Citation Network')\n",
        "plt.xlabel('Core Number')\n",
        "plt.ylabel('Number of Vertices')\n",
        "plt.xticks(list(range(1, max_core + 1)))\n",
        "plt.show()"
      ],
      "metadata": {
        "id": "8UzNZfp-8ccY"
      },
      "execution_count": null,
      "outputs": []
    },
    {
      "cell_type": "markdown",
      "source": [
        "Visualization Highlighting the Cores"
      ],
      "metadata": {
        "id": "EUNs9F9O8jR4"
      }
    },
    {
      "cell_type": "code",
      "source": [
        "# Visualize the graph highlighting the cores\n",
        "color_by_core = core_prop.a / max_core  # normalize for coloring\n",
        "gt.graph_draw(g, pos, vertex_fill_color=color_by_core, vertex_size=5, edge_pen_width=0.5, output_size=(1000, 1000), vcmap=plt.cm.plasma, output=\"kcore_decomposition.png\")"
      ],
      "metadata": {
        "id": "LesP9sgD8hVn"
      },
      "execution_count": null,
      "outputs": []
    },
    {
      "cell_type": "markdown",
      "source": [
        "## **Centrality Meausers**"
      ],
      "metadata": {
        "id": "ix1E1TPUBCrK"
      }
    },
    {
      "cell_type": "code",
      "source": [
        "def plot_centrality_histograms(g):\n",
        "    \"\"\"Plots histograms for various centrality measures.\"\"\"\n",
        "\n",
        "    # Betweenness Centrality\n",
        "    vertex_betweenness, _ = gt.betweenness(g)\n",
        "    plt.figure(figsize=(15,4))\n",
        "    plt.hist(vertex_betweenness.a, bins=50, color='skyblue', alpha=0.7)\n",
        "    plt.title('Distribution of Betweenness Centrality')\n",
        "    plt.xlabel('Betweenness Centrality')\n",
        "    plt.ylabel('Number of Vertices')\n",
        "    plt.show()\n",
        "\n",
        "    # Eigenvector Centrality\n",
        "    _, eigenvector_centrality = gt.eigenvector(g)\n",
        "    plt.figure(figsize=(15,4))\n",
        "    plt.hist(eigenvector_centrality.a, bins=50, color='salmon', alpha=0.7)\n",
        "    plt.title('Distribution of Eigenvector Centrality')\n",
        "    plt.xlabel('Eigenvector Centrality')\n",
        "    plt.ylabel('Number of Vertices')\n",
        "    plt.show()\n",
        "\n",
        "    # Closeness Centrality\n",
        "    closeness_centrality = gt.closeness(g)\n",
        "    plt.figure(figsize=(15,4))\n",
        "    plt.hist(closeness_centrality.a, bins=50, color='lightgreen', alpha=0.7)\n",
        "    plt.title('Distribution of Closeness Centrality')\n",
        "    plt.xlabel('Closeness Centrality')\n",
        "    plt.ylabel('Number of Vertices')\n",
        "    plt.show()"
      ],
      "metadata": {
        "id": "uCj1o6LbBIeV"
      },
      "execution_count": null,
      "outputs": []
    },
    {
      "cell_type": "markdown",
      "source": [],
      "metadata": {
        "id": "QpeSWMLlBgof"
      }
    },
    {
      "cell_type": "code",
      "source": [
        "plot_centrality_histograms(g)"
      ],
      "metadata": {
        "id": "1QDW7hkNBTzC"
      },
      "execution_count": null,
      "outputs": []
    },
    {
      "cell_type": "markdown",
      "source": [
        "##**Blockmodel**"
      ],
      "metadata": {
        "id": "FrswB58E5Vaa"
      }
    },
    {
      "cell_type": "code",
      "source": [
        "state = gt.minimize_blockmodel_dl(g)\n",
        "community_map = state.get_blocks().a"
      ],
      "metadata": {
        "id": "qfg2pKsW5ZFa"
      },
      "execution_count": null,
      "outputs": []
    },
    {
      "cell_type": "code",
      "source": [
        "# Draw the graph with vertices colored by their block labels\n",
        "color = state.get_blocks()\n",
        "gt.graph_draw(g, pos, vertex_fill_color=color, output_size=(1000, 1000), vertex_size=1, output=\"communities.png\")"
      ],
      "metadata": {
        "id": "dIZVdnXS90hE"
      },
      "execution_count": null,
      "outputs": []
    },
    {
      "cell_type": "code",
      "source": [
        "# Size Distribution of Communities\n",
        "plt.figure(figsize=(10,5))\n",
        "plt.hist(community_map, bins=np.max(community_map)+1, color='green', alpha=0.7)\n",
        "plt.title(\"Community Size Distribution\")\n",
        "plt.xlabel(\"Community Label\")\n",
        "plt.ylabel(\"Number of Patents\")\n",
        "plt.show()"
      ],
      "metadata": {
        "id": "ynAZ23MB96RV"
      },
      "execution_count": null,
      "outputs": []
    },
    {
      "cell_type": "markdown",
      "source": [
        "##**Nested Blockmodel**"
      ],
      "metadata": {
        "id": "gEI625lC5ZQr"
      }
    },
    {
      "cell_type": "code",
      "source": [
        "state = gt.minimize_nested_blockmodel_dl(g)"
      ],
      "metadata": {
        "id": "ZDVPU4JI5hPB"
      },
      "execution_count": null,
      "outputs": []
    },
    {
      "cell_type": "code",
      "source": [
        "def draw_nested_blockmodel(g, pos, block, colormaps, filenames):\n",
        "    \"\"\"Drawing the nested blockmodel using different colormaps.\"\"\"\n",
        "\n",
        "    color_by_block = block.a / max(block.a)\n",
        "    for cmap, fname in zip(colormaps, filenames):\n",
        "        gt.graph_draw(g, pos, vertex_fill_color=color_by_block, vertex_size=5, edge_pen_width=0.5, output_size=(1000, 1000), vcmap=cmap, output=fname)\n",
        "\n",
        "# List of colormaps and corresponding filenames\n",
        "colormaps = [plt.cm.jet, plt.cm.viridis, plt.cm.plasma, plt.cm.inferno]\n",
        "filenames = [\"nested_blockmodel_jet.png\", \"nested_blockmodel_viridis.png\", \"nested_blockmodel_plasma.png\", \"nested_blockmodel_inferno.png\"]\n",
        "\n",
        "# Call the function with the block data\n",
        "block = state.get_bs()[0]\n",
        "draw_nested_blockmodel(g, pos, block, colormaps, filenames)"
      ],
      "metadata": {
        "id": "foErNWYU-Noz"
      },
      "execution_count": null,
      "outputs": []
    },
    {
      "cell_type": "markdown",
      "source": [
        "### **Interpretation and Discussion**\n",
        "\n",
        "---\n",
        "\n"
      ],
      "metadata": {
        "id": "WjWsQNFg5hpP"
      }
    }
  ]
}