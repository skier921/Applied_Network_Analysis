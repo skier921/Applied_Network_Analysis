{
  "cells": [
    {
      "cell_type": "markdown",
      "metadata": {
        "id": "k2czxMss37rm"
      },
      "source": [
        "##**Setting up Graph Tool in Colab**\n"
      ]
    },
    {
      "cell_type": "markdown",
      "metadata": {
        "id": "PgD1NL4R4LSI"
      },
      "source": [
        "##**Importing the Network and Required Libraries**"
      ]
    },
    {
      "cell_type": "code",
      "execution_count": 10,
      "metadata": {
        "id": "YgjrrV8p02p-"
      },
      "outputs": [],
      "source": [
        "# U.S. Patent Citation Network Analysis using graph-tool\n",
        "import graph_tool.all as gt\n",
        "import matplotlib.pyplot as plt\n",
        "import numpy as np\n",
        "from tqdm import tqdm\n",
        "import time"
      ]
    },
    {
      "cell_type": "code",
      "execution_count": 11,
      "metadata": {
        "id": "GW5bZA4v4VvJ"
      },
      "outputs": [],
      "source": [
        "g = gt.collection.ns[\"us_patents\"]"
      ]
    },
    {
      "cell_type": "markdown",
      "metadata": {
        "id": "7xlTVJ2H4u3L"
      },
      "source": [
        "##**Spring Layout Visualization**\n"
      ]
    },
    {
      "cell_type": "code",
      "execution_count": 12,
      "metadata": {
        "id": "H6p8ueZc4zhQ"
      },
      "outputs": [
        {
          "name": "stderr",
          "output_type": "stream",
          "text": [
            "Generating layout:   0%|          | 0/100 [00:00<?, ?it/s]"
          ]
        }
      ],
      "source": [
        "# Parameters\n",
        "num_iterations = 1000  # Total number of iterations\n",
        "batch_size = 10  # Number of iterations per update\n",
        "num_batches = num_iterations // batch_size\n",
        "\n",
        "# Create a progress bar\n",
        "pbar = tqdm(total=num_batches, desc=\"Generating layout\", dynamic_ncols=True)\n",
        "\n",
        "# Initialize layout\n",
        "pos = gt.random_layout(g)\n",
        "\n",
        "# Incrementally compute the layout in batches\n",
        "start_time = time.time()\n",
        "for _ in range(num_batches):\n",
        "    pos = gt.sfdp_layout(g, pos=pos, epsilon=1e-2, C=1.0, max_iter=batch_size)\n",
        "    \n",
        "    # Update progress bar and estimate time remaining\n",
        "    elapsed = time.time() - start_time\n",
        "    avg_time_per_batch = elapsed / (_ + 1)\n",
        "    time_remaining = avg_time_per_batch * (num_batches - _ - 1)\n",
        "    pbar.set_postfix({'time remaining': f\"{time_remaining:.2f} seconds\"})\n",
        "    pbar.update(1)\n",
        "pbar.close()\n",
        "\n",
        "# Graph with more transparent edges and slightly smaller vertices\n",
        "edge_pen_width = gt.prop_to_size(gt.betweenness(g)[1], mi=0.1, ma=1.5)\n",
        "gt.graph_draw(g, pos, output_size=(1000, 1000), vertex_size=0.5, edge_pen_width=edge_pen_width, edge_color=[0.7,0.7,0.7,0.2], output=\"spring_layout.png\")"
      ]
    },
    {
      "cell_type": "markdown",
      "metadata": {
        "id": "nyXNhmVo4XBf"
      },
      "source": [
        "##**Descriptive Measures**"
      ]
    },
    {
      "cell_type": "markdown",
      "metadata": {
        "id": "wLG_Exgo4i84"
      },
      "source": [
        "Number of Patents (Nodes) and Citations (Edges)"
      ]
    },
    {
      "cell_type": "code",
      "execution_count": 5,
      "metadata": {
        "id": "tYLxH2Od4dPm"
      },
      "outputs": [],
      "source": [
        "num_patents = g.num_vertices()\n",
        "num_citations = g.num_edges()\n",
        "print(f\"Number of Patents (Nodes): {num_patents}\")\n",
        "print(f\"Number of Citations (Edges): {num_citations}\")"
      ]
    },
    {
      "cell_type": "markdown",
      "metadata": {
        "id": "MzaIsVskC06C"
      },
      "source": [
        "Visualization of Patents(Nodes) and Citations (Edges)"
      ]
    },
    {
      "cell_type": "code",
      "execution_count": null,
      "metadata": {
        "id": "lORGVekXCz39"
      },
      "outputs": [],
      "source": [
        "labels = ['Patents', 'Citations']\n",
        "values = [num_patents, num_citations]\n",
        "\n",
        "plt.figure(figsize=(10, 6))\n",
        "plt.bar(labels, values, color=['blue', 'green'])\n",
        "plt.title(\"Number of Patents vs. Citations\")\n",
        "plt.ylabel(\"Count\")\n",
        "for i, v in enumerate(values):\n",
        "    plt.text(i, v + 50, str(v), ha='center', va='bottom', fontweight='bold')  # Displaying the actual count above the bars\n",
        "plt.show()"
      ]
    },
    {
      "cell_type": "markdown",
      "metadata": {
        "id": "j5i8-nGA4lMx"
      },
      "source": [
        "Degree Distribution"
      ]
    },
    {
      "cell_type": "code",
      "execution_count": 6,
      "metadata": {
        "colab": {
          "base_uri": "https://localhost:8080/",
          "height": 487
        },
        "id": "roxqD_j44l2M",
        "outputId": "14409394-7d62-4b24-f322-5a764819b39c"
      },
      "outputs": [
        {
          "data": {
            "image/png": "[encoded data removed]",
            "text/plain": [
              "<Figure size 1000x500 with 1 Axes>"
            ]
          },
          "metadata": {},
          "output_type": "display_data"
        }
      ],
      "source": [
        "in_degrees = g.degree_property_map(\"in\").a\n",
        "out_degrees = g.degree_property_map(\"out\").a\n",
        "\n",
        "plt.figure(figsize=(10,5))\n",
        "plt.hist(in_degrees, bins=50, color='blue', alpha=0.7, label=\"In-degree\")\n",
        "plt.hist(out_degrees, bins=50, color='red', alpha=0.7, label=\"Out-degree\")\n",
        "plt.title(\"Degree Distribution\")\n",
        "plt.xlabel(\"Degree\")\n",
        "plt.ylabel(\"Number of Patents\")\n",
        "plt.legend()\n",
        "plt.show()"
      ]
    },
    {
      "cell_type": "markdown",
      "metadata": {
        "id": "Nk6SvlAH4nnD"
      },
      "source": [
        "Identifing Patents Hubs"
      ]
    },
    {
      "cell_type": "code",
      "execution_count": null,
      "metadata": {
        "id": "64BCE_AR4qnW"
      },
      "outputs": [],
      "source": [
        "vertex_betweenness = gt.betweenness(g)[0]\n",
        "threshold = np.percentile(vertex_betweenness.a, 95)\n",
        "key_patents = [(g.vertex(v), centrality) for v, centrality in enumerate(vertex_betweenness.a) if centrality > threshold]"
      ]
    },
    {
      "cell_type": "markdown",
      "metadata": {
        "id": "v9G0SfvQ42lN"
      },
      "source": [
        "##**Shortest Paths**"
      ]
    },
    {
      "cell_type": "markdown",
      "metadata": {
        "id": "uA6aGRQZ6BMs"
      },
      "source": [
        "Highest Degree"
      ]
    },
    {
      "cell_type": "code",
      "execution_count": null,
      "metadata": {
        "id": "qhf7TDA54535"
      },
      "outputs": [],
      "source": [
        "# Identify patent with highest in-degree (most citations received)\n",
        "most_cited_vertex = np.argmax(in_degrees)"
      ]
    },
    {
      "cell_type": "markdown",
      "metadata": {
        "id": "Xze7KmjT6Cby"
      },
      "source": [
        "Highest Betweenness Centrality"
      ]
    },
    {
      "cell_type": "code",
      "execution_count": null,
      "metadata": {
        "id": "s9hxC6V66Hz7"
      },
      "outputs": [],
      "source": [
        "# Identify patent with highest betweenness centrality\n",
        "most_central_vertex = np.argmax(vertex_betweenness.a)"
      ]
    },
    {
      "cell_type": "markdown",
      "metadata": {
        "id": "Sn2H5fHG6HaT"
      },
      "source": [
        "Shortest Path"
      ]
    },
    {
      "cell_type": "code",
      "execution_count": null,
      "metadata": {
        "id": "yendszUd7iVy"
      },
      "outputs": [],
      "source": [
        "shortest_path_vertices = gt.shortest_path(g, g.vertex(most_cited_vertex), g.vertex(most_central_vertex))[0]"
      ]
    },
    {
      "cell_type": "markdown",
      "metadata": {
        "id": "CLv6NaaW49yl"
      },
      "source": [
        "##**Percolation Threshold**"
      ]
    },
    {
      "cell_type": "code",
      "execution_count": null,
      "metadata": {
        "id": "InT11AD45Dpb"
      },
      "outputs": [],
      "source": [
        "# Percolation analysis\n",
        "comp, hist = gt.vertex_percolation(g)\n",
        "threshold = np.argmax(hist.a) / g.num_vertices()\n",
        "\n",
        "# Plotting\n",
        "plt.figure(figsize=(10,5))\n",
        "plt.plot(hist.a / g.num_vertices(), label=\"Component Size\", color=\"blue\")\n",
        "plt.axvline(x=threshold, color='red', linestyle='--', label=f\"Threshold: {threshold:.2f}\")\n",
        "plt.title(\"Vertex Percolation in U.S. Patent Citation Network\")\n",
        "plt.xlabel(\"Fraction of Vertices Removed\")\n",
        "plt.ylabel(\"Normalized Component Size\")\n",
        "plt.legend()\n",
        "plt.show()"
      ]
    },
    {
      "cell_type": "markdown",
      "metadata": {
        "id": "i6znm-VI5D4u"
      },
      "source": [
        "##**K-core Decomposition**"
      ]
    },
    {
      "cell_type": "code",
      "execution_count": null,
      "metadata": {
        "id": "hpD8irov5IE3"
      },
      "outputs": [],
      "source": [
        "core_prop = gt.kcore_decomposition(g)\n",
        "max_core = core_prop.a.max()"
      ]
    },
    {
      "cell_type": "markdown",
      "metadata": {
        "id": "Ro_vhEW38kRy"
      },
      "source": [
        "Histogram of Core Numbers"
      ]
    },
    {
      "cell_type": "code",
      "execution_count": null,
      "metadata": {
        "id": "8UzNZfp-8ccY"
      },
      "outputs": [],
      "source": [
        "# Histogram of core numbers\n",
        "plt.figure(figsize=(10,5))\n",
        "plt.hist(core_prop.a, bins=range(1, max_core + 2), align='left', rwidth=0.8, color='purple', alpha=0.7)\n",
        "plt.title('Distribution of k-Core Numbers in U.S. Patent Citation Network')\n",
        "plt.xlabel('Core Number')\n",
        "plt.ylabel('Number of Vertices')\n",
        "plt.xticks(list(range(1, max_core + 1)))\n",
        "plt.show()"
      ]
    },
    {
      "cell_type": "markdown",
      "metadata": {
        "id": "EUNs9F9O8jR4"
      },
      "source": [
        "Visualization Highlighting the Cores"
      ]
    },
    {
      "cell_type": "code",
      "execution_count": null,
      "metadata": {
        "id": "LesP9sgD8hVn"
      },
      "outputs": [],
      "source": [
        "# Visualize the graph highlighting the cores\n",
        "color_by_core = core_prop.a / max_core  # normalize for coloring\n",
        "gt.graph_draw(g, pos, vertex_fill_color=color_by_core, vertex_size=5, edge_pen_width=0.5, output_size=(1000, 1000), vcmap=plt.cm.plasma, output=\"kcore_decomposition.png\")"
      ]
    },
    {
      "cell_type": "markdown",
      "metadata": {
        "id": "ix1E1TPUBCrK"
      },
      "source": [
        "## **Centrality Meausers**"
      ]
    },
    {
      "cell_type": "code",
      "execution_count": null,
      "metadata": {
        "id": "uCj1o6LbBIeV"
      },
      "outputs": [],
      "source": [
        "def plot_centrality_histograms(g):\n",
        "    \"\"\"Plots histograms for various centrality measures.\"\"\"\n",
        "\n",
        "    # Betweenness Centrality\n",
        "    vertex_betweenness, _ = gt.betweenness(g)\n",
        "    plt.figure(figsize=(15,4))\n",
        "    plt.hist(vertex_betweenness.a, bins=50, color='skyblue', alpha=0.7)\n",
        "    plt.title('Distribution of Betweenness Centrality')\n",
        "    plt.xlabel('Betweenness Centrality')\n",
        "    plt.ylabel('Number of Vertices')\n",
        "    plt.show()\n",
        "\n",
        "    # Eigenvector Centrality\n",
        "    _, eigenvector_centrality = gt.eigenvector(g)\n",
        "    plt.figure(figsize=(15,4))\n",
        "    plt.hist(eigenvector_centrality.a, bins=50, color='salmon', alpha=0.7)\n",
        "    plt.title('Distribution of Eigenvector Centrality')\n",
        "    plt.xlabel('Eigenvector Centrality')\n",
        "    plt.ylabel('Number of Vertices')\n",
        "    plt.show()\n",
        "\n",
        "    # Closeness Centrality\n",
        "    closeness_centrality = gt.closeness(g)\n",
        "    plt.figure(figsize=(15,4))\n",
        "    plt.hist(closeness_centrality.a, bins=50, color='lightgreen', alpha=0.7)\n",
        "    plt.title('Distribution of Closeness Centrality')\n",
        "    plt.xlabel('Closeness Centrality')\n",
        "    plt.ylabel('Number of Vertices')\n",
        "    plt.show()"
      ]
    },
    {
      "cell_type": "markdown",
      "metadata": {
        "id": "QpeSWMLlBgof"
      },
      "source": []
    },
    {
      "cell_type": "code",
      "execution_count": null,
      "metadata": {
        "id": "1QDW7hkNBTzC"
      },
      "outputs": [],
      "source": [
        "plot_centrality_histograms(g)"
      ]
    },
    {
      "cell_type": "markdown",
      "metadata": {
        "id": "FrswB58E5Vaa"
      },
      "source": [
        "##**Blockmodel**"
      ]
    },
    {
      "cell_type": "code",
      "execution_count": null,
      "metadata": {
        "id": "qfg2pKsW5ZFa"
      },
      "outputs": [],
      "source": [
        "state = gt.minimize_blockmodel_dl(g)\n",
        "community_map = state.get_blocks().a"
      ]
    },
    {
      "cell_type": "code",
      "execution_count": null,
      "metadata": {
        "id": "dIZVdnXS90hE"
      },
      "outputs": [],
      "source": [
        "# Draw the graph with vertices colored by their block labels\n",
        "color = state.get_blocks()\n",
        "gt.graph_draw(g, pos, vertex_fill_color=color, output_size=(1000, 1000), vertex_size=1, output=\"communities.png\")"
      ]
    },
    {
      "cell_type": "code",
      "execution_count": null,
      "metadata": {
        "id": "ynAZ23MB96RV"
      },
      "outputs": [],
      "source": [
        "# Size Distribution of Communities\n",
        "plt.figure(figsize=(10,5))\n",
        "plt.hist(community_map, bins=np.max(community_map)+1, color='green', alpha=0.7)\n",
        "plt.title(\"Community Size Distribution\")\n",
        "plt.xlabel(\"Community Label\")\n",
        "plt.ylabel(\"Number of Patents\")\n",
        "plt.show()"
      ]
    },
    {
      "cell_type": "markdown",
      "metadata": {
        "id": "gEI625lC5ZQr"
      },
      "source": [
        "##**Nested Blockmodel**"
      ]
    },
    {
      "cell_type": "code",
      "execution_count": null,
      "metadata": {
        "id": "ZDVPU4JI5hPB"
      },
      "outputs": [],
      "source": [
        "state = gt.minimize_nested_blockmodel_dl(g)"
      ]
    },
    {
      "cell_type": "code",
      "execution_count": null,
      "metadata": {
        "id": "foErNWYU-Noz"
      },
      "outputs": [],
      "source": [
        "def draw_nested_blockmodel(g, pos, block, colormaps, filenames):\n",
        "    \"\"\"Drawing the nested blockmodel using different colormaps.\"\"\"\n",
        "\n",
        "    color_by_block = block.a / max(block.a)\n",
        "    for cmap, fname in zip(colormaps, filenames):\n",
        "        gt.graph_draw(g, pos, vertex_fill_color=color_by_block, vertex_size=5, edge_pen_width=0.5, output_size=(1000, 1000), vcmap=cmap, output=fname)\n",
        "\n",
        "# List of colormaps and corresponding filenames\n",
        "colormaps = [plt.cm.jet, plt.cm.viridis, plt.cm.plasma, plt.cm.inferno]\n",
        "filenames = [\"nested_blockmodel_jet.png\", \"nested_blockmodel_viridis.png\", \"nested_blockmodel_plasma.png\", \"nested_blockmodel_inferno.png\"]\n",
        "\n",
        "# Call the function with the block data\n",
        "block = state.get_bs()[0]\n",
        "draw_nested_blockmodel(g, pos, block, colormaps, filenames)"
      ]
    },
    {
      "cell_type": "markdown",
      "metadata": {
        "id": "WjWsQNFg5hpP"
      },
      "source": [
        "### **Interpretation and Discussion**\n",
        "\n",
        "---\n",
        "\n"
      ]
    }
  ],
  "metadata": {
    "colab": {
      "provenance": []
    },
    "kernelspec": {
      "display_name": "Python 3",
      "name": "python3"
    },
    "language_info": {
      "codemirror_mode": {
        "name": "ipython",
        "version": 3
      },
      "file_extension": ".py",
      "mimetype": "text/x-python",
      "name": "python",
      "nbconvert_exporter": "python",
      "pygments_lexer": "ipython3",
      "version": "3.11.6"
    }
  },
  "nbformat": 4,
  "nbformat_minor": 0
}
